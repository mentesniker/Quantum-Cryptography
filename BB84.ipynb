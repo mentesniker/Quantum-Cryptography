{
 "cells": [
  {
   "cell_type": "markdown",
   "metadata": {},
   "source": [
    "# Algorithm BB84 for key exchange."
   ]
  },
  {
   "cell_type": "markdown",
   "metadata": {},
   "source": [
    "## First let's define some imports."
   ]
  },
  {
   "cell_type": "code",
   "execution_count": 14,
   "metadata": {},
   "outputs": [],
   "source": [
    "%matplotlib inline\n",
    "# Importing standard Qiskit libraries\n",
    "from qiskit import QuantumCircuit, execute, Aer, IBMQ\n",
    "from qiskit.compiler import transpile, assemble\n",
    "from qiskit.tools.jupyter import *\n",
    "from random import randint\n",
    "import hashlib"
   ]
  },
  {
   "cell_type": "markdown",
   "metadata": {},
   "source": [
    "## In the next cell Alice choses a random binary string from which the Shared key will be form later. Also she selects random basis and encripts the string accordingly to the selected basis."
   ]
  },
  {
   "cell_type": "code",
   "execution_count": 22,
   "metadata": {},
   "outputs": [],
   "source": [
    "#Alice cell, Bob can't see what's going in on here\n",
    "m0 = ''.join([str(randint(0,1)) for x in range(256)])\n",
    "Alice_bases = [randint(0,1) for x in range(256)]\n",
    "qubits = list()\n",
    "for i in range(len(Alice_bases)):\n",
    "    mycircuit = QuantumCircuit(1,1)\n",
    "    if(Alice_bases[i] == 0):\n",
    "        if(m0[i] == \"1\"):\n",
    "            mycircuit.x(0)\n",
    "    else:\n",
    "        if(m0[i] == \"0\"):\n",
    "            mycircuit.h(0)\n",
    "        else:\n",
    "            mycircuit.x(0)\n",
    "            mycircuit.h(0)\n",
    "    qubits.append(mycircuit)"
   ]
  },
  {
   "cell_type": "markdown",
   "metadata": {},
   "source": [
    "## In the next cell Bob measures the qubits that Alice sent. Then He receives the basis of Alice. Finally He send to Alice the index of the basis that they meassure correctly."
   ]
  },
  {
   "cell_type": "code",
   "execution_count": 23,
   "metadata": {},
   "outputs": [],
   "source": [
    "#Bob cell, Alice can't see what's going in on here\n",
    "Bob_bases = [randint(0,1) for x in range(256)]\n",
    "backend = Aer.get_backend('qasm_simulator')\n",
    "measurements = list()\n",
    "for i in range(len(Bob_bases)):\n",
    "    qubit = qubits[i]\n",
    "    if(Bob_bases[i] == 0):\n",
    "        qubit.measure(0,0)\n",
    "    else:\n",
    "        qubit.h(0)\n",
    "        qubit.measure(0,0)\n",
    "    result = execute(qubit, backend, shots=1, memory=True).result()\n",
    "    measurements.append(int(result.get_memory()[0]))"
   ]
  },
  {
   "cell_type": "code",
   "execution_count": 24,
   "metadata": {},
   "outputs": [],
   "source": [
    "#Bob cell, Alice can't see what's going in on here\n",
    "I0 = list()\n",
    "for i in range(len(Alice_bases)):\n",
    "    if(Alice_bases[i] == Bob_bases[i]):\n",
    "        I0.append(i)"
   ]
  },
  {
   "cell_type": "markdown",
   "metadata": {},
   "source": [
    "## In the final step, both of them take from their strings the bits which they share."
   ]
  },
  {
   "cell_type": "code",
   "execution_count": 25,
   "metadata": {},
   "outputs": [
    {
     "name": "stdout",
     "output_type": "stream",
     "text": [
      "01001100001001000000011100011010111101000111110101101011111111011000101100001101010111011101110001110011001110111000010000000010111000\n",
      "01001100001001000000011100011010111101000111110101101011111111011000101100001101010111011101110001110011001110111000010000000010111000\n",
      "True\n"
     ]
    }
   ],
   "source": [
    "#Test cell to see that both of them have the same key\n",
    "keyAlice = ''.join([m0[x] for x in I0])\n",
    "keyBob = ''.join([str(measurements[x]) for x in I0])\n",
    "print(keyAlice)\n",
    "print(keyBob)\n",
    "print(keyAlice == keyBob)"
   ]
  }
 ],
 "metadata": {
  "kernelspec": {
   "display_name": "Python 3",
   "language": "python",
   "name": "python3"
  },
  "language_info": {
   "codemirror_mode": {
    "name": "ipython",
    "version": 3
   },
   "file_extension": ".py",
   "mimetype": "text/x-python",
   "name": "python",
   "nbconvert_exporter": "python",
   "pygments_lexer": "ipython3",
   "version": "3.8.5"
  }
 },
 "nbformat": 4,
 "nbformat_minor": 4
}
